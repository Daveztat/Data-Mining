{
 "cells": [
  {
   "cell_type": "markdown",
   "metadata": {},
   "source": [
    "# Clases y Objetos en Python"
   ]
  },
  {
   "cell_type": "code",
   "execution_count": 24,
   "metadata": {},
   "outputs": [],
   "source": [
    "from datetime import datetime\n",
    "import csv\n",
    "import pandas as pd  \n",
    "import numpy as np  "
   ]
  },
  {
   "cell_type": "markdown",
   "metadata": {},
   "source": [
    "Escriba un archivo de excel o csv con la información de cuentas bancarias que contiene la siguiente información: número de cuenta, nombre del cliente, saldo_actual, fecha última transacción. Coloque el archivo en alguna dirección url. Por ejemplo en su repositorio de Github."
   ]
  },
  {
   "cell_type": "code",
   "execution_count": 41,
   "metadata": {},
   "outputs": [
    {
     "data": {
      "text/html": [
       "<div>\n",
       "<style scoped>\n",
       "    .dataframe tbody tr th:only-of-type {\n",
       "        vertical-align: middle;\n",
       "    }\n",
       "\n",
       "    .dataframe tbody tr th {\n",
       "        vertical-align: top;\n",
       "    }\n",
       "\n",
       "    .dataframe thead th {\n",
       "        text-align: right;\n",
       "    }\n",
       "</style>\n",
       "<table border=\"1\" class=\"dataframe\">\n",
       "  <thead>\n",
       "    <tr style=\"text-align: right;\">\n",
       "      <th></th>\n",
       "      <th>Numero_cuenta</th>\n",
       "      <th>Nombre</th>\n",
       "      <th>Saldo_actual</th>\n",
       "      <th>Ultima_transaccion</th>\n",
       "    </tr>\n",
       "  </thead>\n",
       "  <tbody>\n",
       "    <tr>\n",
       "      <th>0</th>\n",
       "      <td>123876</td>\n",
       "      <td>Pablo Herrera</td>\n",
       "      <td>10000</td>\n",
       "      <td>2022-08-16</td>\n",
       "    </tr>\n",
       "    <tr>\n",
       "      <th>1</th>\n",
       "      <td>183564</td>\n",
       "      <td>Valeria Hernandez</td>\n",
       "      <td>2000000</td>\n",
       "      <td>2022-08-01</td>\n",
       "    </tr>\n",
       "    <tr>\n",
       "      <th>2</th>\n",
       "      <td>132098</td>\n",
       "      <td>Daniela Alfonso</td>\n",
       "      <td>-500</td>\n",
       "      <td>2022-09-26</td>\n",
       "    </tr>\n",
       "    <tr>\n",
       "      <th>3</th>\n",
       "      <td>154237</td>\n",
       "      <td>Luis Parra</td>\n",
       "      <td>800000</td>\n",
       "      <td>2022-07-18</td>\n",
       "    </tr>\n",
       "  </tbody>\n",
       "</table>\n",
       "</div>"
      ],
      "text/plain": [
       "   Numero_cuenta             Nombre  Saldo_actual Ultima_transaccion\n",
       "0         123876      Pablo Herrera         10000         2022-08-16\n",
       "1         183564  Valeria Hernandez       2000000         2022-08-01\n",
       "2         132098    Daniela Alfonso          -500         2022-09-26\n",
       "3         154237         Luis Parra        800000         2022-07-18"
      ]
     },
     "execution_count": 41,
     "metadata": {},
     "output_type": "execute_result"
    }
   ],
   "source": [
    "dict_data = {'Numero_cuenta': [123876, 183564, 132098, 154237], \n",
    "            'Nombre': ['Pablo Herrera', 'Valeria Hernandez', 'Daniela Alfonso', 'Luis Parra'], \n",
    "            'Saldo_actual': [10000, 2000000, -500, 800000], \n",
    "            'Ultima_transaccion': ['2022-08-16', '2022-08-01', '2022-09-26', '2022-07-18']}\n",
    "df = pd.DataFrame(dict_data)\n",
    "df"
   ]
  },
  {
   "cell_type": "markdown",
   "metadata": {},
   "source": [
    "A continuación guardamos el anterior DataFrame como un archivo .csv"
   ]
  },
  {
   "cell_type": "code",
   "execution_count": 26,
   "metadata": {},
   "outputs": [
    {
     "data": {
      "text/plain": [
       "'C:/Users/dfdop/Documents/Data-Mining/bank.csv'"
      ]
     },
     "execution_count": 26,
     "metadata": {},
     "output_type": "execute_result"
    }
   ],
   "source": [
    "dir_pandas = 'C:/Users/dfdop/Documents/Data-Mining/{}'.format('bank.csv')\n",
    "dir_pandas"
   ]
  },
  {
   "cell_type": "code",
   "execution_count": 27,
   "metadata": {},
   "outputs": [],
   "source": [
    "df.to_csv(dir_pandas, index = False)"
   ]
  },
  {
   "cell_type": "code",
   "execution_count": 28,
   "metadata": {},
   "outputs": [
    {
     "data": {
      "text/html": [
       "<div>\n",
       "<style scoped>\n",
       "    .dataframe tbody tr th:only-of-type {\n",
       "        vertical-align: middle;\n",
       "    }\n",
       "\n",
       "    .dataframe tbody tr th {\n",
       "        vertical-align: top;\n",
       "    }\n",
       "\n",
       "    .dataframe thead th {\n",
       "        text-align: right;\n",
       "    }\n",
       "</style>\n",
       "<table border=\"1\" class=\"dataframe\">\n",
       "  <thead>\n",
       "    <tr style=\"text-align: right;\">\n",
       "      <th></th>\n",
       "      <th>Numero_cuenta</th>\n",
       "      <th>Nombre</th>\n",
       "      <th>Saldo_actual</th>\n",
       "      <th>Ultima_transaccion</th>\n",
       "    </tr>\n",
       "  </thead>\n",
       "  <tbody>\n",
       "    <tr>\n",
       "      <th>0</th>\n",
       "      <td>123876</td>\n",
       "      <td>Pablo Herrera</td>\n",
       "      <td>10000</td>\n",
       "      <td>2022-08-16</td>\n",
       "    </tr>\n",
       "    <tr>\n",
       "      <th>1</th>\n",
       "      <td>183564</td>\n",
       "      <td>Valeria Hernandez</td>\n",
       "      <td>2000000</td>\n",
       "      <td>2022-08-01</td>\n",
       "    </tr>\n",
       "    <tr>\n",
       "      <th>2</th>\n",
       "      <td>132098</td>\n",
       "      <td>Daniela Alfonso</td>\n",
       "      <td>-500</td>\n",
       "      <td>2022-09-26</td>\n",
       "    </tr>\n",
       "    <tr>\n",
       "      <th>3</th>\n",
       "      <td>154237</td>\n",
       "      <td>Luis Parra</td>\n",
       "      <td>800000</td>\n",
       "      <td>2022-07-18</td>\n",
       "    </tr>\n",
       "  </tbody>\n",
       "</table>\n",
       "</div>"
      ],
      "text/plain": [
       "   Numero_cuenta             Nombre  Saldo_actual Ultima_transaccion\n",
       "0         123876      Pablo Herrera         10000         2022-08-16\n",
       "1         183564  Valeria Hernandez       2000000         2022-08-01\n",
       "2         132098    Daniela Alfonso          -500         2022-09-26\n",
       "3         154237         Luis Parra        800000         2022-07-18"
      ]
     },
     "execution_count": 28,
     "metadata": {},
     "output_type": "execute_result"
    }
   ],
   "source": [
    "df = pd.read_csv(dir_pandas)\n",
    "df.head()\n"
   ]
  },
  {
   "cell_type": "code",
   "execution_count": 54,
   "metadata": {},
   "outputs": [],
   "source": [
    "class CuentaBancaria:\n",
    "\n",
    "    MIN_SALDO = -10_000\n",
    "    \n",
    "    def __init__(self, numero_cuenta, cliente, saldo=0):\n",
    "        self.numero_cuenta = numero_cuenta\n",
    "        self.cliente = cliente          \n",
    "        self.transaccion = datetime.now().date()\n",
    "        if saldo < self.MIN_SALDO:\n",
    "            raise ValueError(\"¡Saldo muy pequeño!\")\n",
    "        else:\n",
    "            self.saldo = saldo\n",
    "\n",
    "    @classmethod\n",
    "    def from_df(cls, df, number):\n",
    "        if sum(number == df.index) == 0:\n",
    "            print(\"El usuario solicitado NO existe\")\n",
    "        else:\n",
    "            user = dict(df.iloc[number])\n",
    "            numero_cuenta = user['Numero_cuenta']\n",
    "            cliente = user['Nombre']\n",
    "            saldo = user['Saldo_actual']\n",
    "            return cls(numero_cuenta, cliente, saldo)\n",
    "\n",
    "    @staticmethod\n",
    "    def import_csv(filepath):\n",
    "        df = pd.read_csv(filepath)\n",
    "        return df \n",
    "\n",
    "    #def next_custumer(self, )\n",
    "     \n",
    "    def deposito(self, monto):\n",
    "        self.saldo += monto\n",
    "        \n",
    "    def retiro(self, monto):\n",
    "        self.saldo -= monto\n",
    "\n",
    "    def __str__(self):\n",
    "        return f\"\"\"\n",
    "          Cuenta Bancaria:\n",
    "          Propietario de la cuenta: {self.cliente}\n",
    "          Número de cuenta: {self.numero_cuenta}\n",
    "          Fecha de creación: {str(self.transaccion)}\n",
    "          Saldo actual: {self.saldo}\n",
    "          \"\"\""
   ]
  },
  {
   "cell_type": "code",
   "execution_count": 55,
   "metadata": {},
   "outputs": [
    {
     "name": "stdout",
     "output_type": "stream",
     "text": [
      "\n",
      "          Cuenta Bancaria:\n",
      "          Propietario de la cuenta: Daniela Alfonso\n",
      "          Número de cuenta: 132098\n",
      "          Fecha de creación: 2022-10-12\n",
      "          Saldo actual: -500\n",
      "          \n"
     ]
    }
   ],
   "source": [
    "m = CuentaBancaria.import_csv(dir_pandas)\n",
    "cliente = CuentaBancaria.from_df(m, 2)\n",
    "print(cliente)"
   ]
  }
 ],
 "metadata": {
  "kernelspec": {
   "display_name": "Python 3.9.7 ('TimeSeries')",
   "language": "python",
   "name": "python3"
  },
  "language_info": {
   "codemirror_mode": {
    "name": "ipython",
    "version": 3
   },
   "file_extension": ".py",
   "mimetype": "text/x-python",
   "name": "python",
   "nbconvert_exporter": "python",
   "pygments_lexer": "ipython3",
   "version": "3.9.7"
  },
  "orig_nbformat": 4,
  "vscode": {
   "interpreter": {
    "hash": "0dcd7357846cc4832592d94816bc0bb0dd8993c211d20141cda7b3316b121294"
   }
  }
 },
 "nbformat": 4,
 "nbformat_minor": 2
}
