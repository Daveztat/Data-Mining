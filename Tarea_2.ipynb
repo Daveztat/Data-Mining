{
 "cells": [
  {
   "cell_type": "code",
   "execution_count": 1,
   "metadata": {},
   "outputs": [],
   "source": [
    "from datetime import datetime\n",
    "import csv\n",
    "\n",
    "class CuentaBancaria:\n",
    "\n",
    "    MIN_SALDO = -10_000\n",
    "    \n",
    "    def __init__(self, cliente, numero_cuenta, saldo=0):\n",
    "        self.cliente = cliente    \n",
    "        self.numero_cuenta = numero_cuenta\n",
    "        self.creada_en = datetime.now().date()\n",
    "        if saldo < self.MIN_SALDO:\n",
    "            raise ValueError(\"¡Saldo muy pequeño!\")\n",
    "        else:\n",
    "            self.saldo = saldo\n",
    "    \n",
    "    @classmethod\n",
    "    def from_csv(cls, filepath):\n",
    "        with open(filepath, \"r\") as f:\n",
    "            fila = csv.reader(f).__next__()\n",
    "            cliente, numero_cuenta = fila\n",
    "            return cls(cliente, numero_cuenta)\n",
    "     \n",
    "    def deposito(self, monto):\n",
    "        self.saldo += monto\n",
    "        \n",
    "    def retiro(self, monto):\n",
    "        self.saldo -= monto\n",
    "    "
   ]
  },
  {
   "cell_type": "code",
   "execution_count": null,
   "metadata": {},
   "outputs": [],
   "source": [
    "# usando el método de clase\n",
    "path = 'https://raw.githubusercontent.com/AprendizajeProfundo/Libro_Fundamentos_Programacion/main/Python/Datos/cuenta.csv'\n",
    "mi_cuenta = CuentaBancaria.from_csv(path)\n",
    "print(mi_cuenta.cliente, mi_cuenta.numero_cuenta, mi_cuenta.saldo, mi_cuenta.creada_en) "
   ]
  }
 ],
 "metadata": {
  "kernelspec": {
   "display_name": "Python 3.9.7 ('TimeSeries')",
   "language": "python",
   "name": "python3"
  },
  "language_info": {
   "codemirror_mode": {
    "name": "ipython",
    "version": 3
   },
   "file_extension": ".py",
   "mimetype": "text/x-python",
   "name": "python",
   "nbconvert_exporter": "python",
   "pygments_lexer": "ipython3",
   "version": "3.9.7"
  },
  "orig_nbformat": 4,
  "vscode": {
   "interpreter": {
    "hash": "0dcd7357846cc4832592d94816bc0bb0dd8993c211d20141cda7b3316b121294"
   }
  }
 },
 "nbformat": 4,
 "nbformat_minor": 2
}
